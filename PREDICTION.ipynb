{
 "cells": [
  {
   "cell_type": "code",
   "execution_count": 1,
   "id": "eb2773b5-85a0-402f-8a95-006ea5678197",
   "metadata": {},
   "outputs": [
    {
     "name": "stderr",
     "output_type": "stream",
     "text": [
      "2024-12-17 13:59:03.377196: I tensorflow/core/platform/cpu_feature_guard.cc:193] This TensorFlow binary is optimized with oneAPI Deep Neural Network Library (oneDNN) to use the following CPU instructions in performance-critical operations:  AVX2 AVX512F AVX512_VNNI FMA\n",
      "To enable them in other operations, rebuild TensorFlow with the appropriate compiler flags.\n",
      "2024-12-17 13:59:03.498246: I tensorflow/core/util/util.cc:169] oneDNN custom operations are on. You may see slightly different numerical results due to floating-point round-off errors from different computation orders. To turn them off, set the environment variable `TF_ENABLE_ONEDNN_OPTS=0`.\n",
      "2024-12-17 13:59:03.534007: E tensorflow/stream_executor/cuda/cuda_blas.cc:2981] Unable to register cuBLAS factory: Attempting to register factory for plugin cuBLAS when one has already been registered\n",
      "2024-12-17 13:59:04.191232: W tensorflow/stream_executor/platform/default/dso_loader.cc:64] Could not load dynamic library 'libnvinfer.so.7'; dlerror: libnvinfer.so.7: cannot open shared object file: No such file or directory; LD_LIBRARY_PATH: /usr/miniconda3/lib/:/usr/miniconda3/envs/py3-tf/lib/\n",
      "2024-12-17 13:59:04.191287: W tensorflow/stream_executor/platform/default/dso_loader.cc:64] Could not load dynamic library 'libnvinfer_plugin.so.7'; dlerror: libnvinfer_plugin.so.7: cannot open shared object file: No such file or directory; LD_LIBRARY_PATH: /usr/miniconda3/lib/:/usr/miniconda3/envs/py3-tf/lib/\n",
      "2024-12-17 13:59:04.191293: W tensorflow/compiler/tf2tensorrt/utils/py_utils.cc:38] TF-TRT Warning: Cannot dlopen some TensorRT libraries. If you would like to use Nvidia GPU with TensorRT, please make sure the missing libraries mentioned above are installed properly.\n"
     ]
    }
   ],
   "source": [
    "from keras.utils import load_img\n",
    "from keras.utils import img_to_array\n",
    "import tensorflow as tf\n",
    "import glob, os\n",
    "import numpy as np\n",
    "import pandas as pd\n",
    "import matplotlib.pyplot as plt\n",
    "\n",
    "physical_devices = tf.config.list_physical_devices('GPU')\n",
    "# Enable only first GPU\n",
    "tf.config.set_visible_devices(physical_devices[0], 'GPU')\n"
   ]
  },
  {
   "cell_type": "markdown",
   "id": "088a7cf4-0196-4616-b1fb-d812a36f7a60",
   "metadata": {
    "tags": []
   },
   "source": [
    "# Data loading"
   ]
  },
  {
   "cell_type": "code",
   "execution_count": 2,
   "id": "08a890bb-7846-4c40-9ba4-a6da946c8e2d",
   "metadata": {},
   "outputs": [],
   "source": [
    "# Function to load image\n",
    "def load_image(filename):\n",
    "\t# load the image\n",
    "\timg = load_img(filename, target_size=(200,200,1), color_mode=\"grayscale\")\n",
    "\t# convert to array\n",
    "\timg = img_to_array(img)\n",
    "\t# reshape into a single sample with 1 channel\n",
    "\timg = img.reshape(200,200, 1)\n",
    "    \n",
    "\t# convert pixel data to 0-1 data\n",
    "\timg = img.astype('float32')\n",
    "\timg = img / 255.0\n",
    "\treturn img"
   ]
  },
  {
   "cell_type": "code",
   "execution_count": 3,
   "id": "9142bdeb-bda9-4160-b50a-5b7012d86f23",
   "metadata": {},
   "outputs": [
    {
     "name": "stdout",
     "output_type": "stream",
     "text": [
      "(528, 200, 200, 1)\n",
      "(528, 200, 200, 1)\n",
      "(528, 5)\n"
     ]
    }
   ],
   "source": [
    "#os.chdir(\"../inputs/\")\n",
    "\n",
    "peakinfo = pd.read_csv(\"inputs/peakinfo.csv\")\n",
    "\n",
    "labels = pd.read_csv(\"labels_example.csv\", delimiter=';')\n",
    "\n",
    "data_target = []\n",
    "data_confirming = []\n",
    "peak_info = []\n",
    "\n",
    "for i in range(0,len(peakinfo)):\n",
    "    file = peakinfo['plotname'][i]\n",
    "    file_confirming = file.replace(\".jpeg\", \"_confirming.jpeg\")\n",
    "    filename = os.path.basename(file)\n",
    "    \n",
    "    if filename in labels['PLOTname'].tolist():\n",
    "        # Load input \n",
    "        data_target.append(load_image(file))\n",
    "        data_confirming.append(load_image(file_confirming))\n",
    "\n",
    "        idx = np.flatnonzero(labels['PLOTname'] == filename)[0]\n",
    "        list_peakinfo = peakinfo.iloc[i].tolist()\n",
    "        list_peakinfo.append(labels['vu'][idx])\n",
    "        peak_info.append(list_peakinfo)\n",
    "\n",
    "data_target = np.array(data_target)\n",
    "data_confirming = np.array(data_confirming)\n",
    "peak_info = pd.DataFrame(peak_info)\n",
    "peak_info.columns = ['plotname', 'area', 'points', 'devRRT', 'interp']\n",
    "\n",
    "print(data_target.shape)\n",
    "print(data_confirming.shape)\n",
    "print(peak_info.shape)"
   ]
  },
  {
   "cell_type": "markdown",
   "id": "ad97f9e7-4e53-4df3-9baa-0d8425d557ae",
   "metadata": {},
   "source": [
    "# Predictions"
   ]
  },
  {
   "cell_type": "code",
   "execution_count": 4,
   "id": "39f61d67-07c9-4c41-83a4-a587f39a5cac",
   "metadata": {},
   "outputs": [
    {
     "name": "stderr",
     "output_type": "stream",
     "text": [
      "2024-12-17 13:59:08.559115: I tensorflow/core/platform/cpu_feature_guard.cc:193] This TensorFlow binary is optimized with oneAPI Deep Neural Network Library (oneDNN) to use the following CPU instructions in performance-critical operations:  AVX2 AVX512F AVX512_VNNI FMA\n",
      "To enable them in other operations, rebuild TensorFlow with the appropriate compiler flags.\n",
      "2024-12-17 13:59:09.220139: I tensorflow/core/common_runtime/gpu/gpu_device.cc:1616] Created device /job:localhost/replica:0/task:0/device:GPU:0 with 6650 MB memory:  -> device: 0, name: Quadro RTX 4000, pci bus id: 0000:86:00.0, compute capability: 7.5\n"
     ]
    }
   ],
   "source": [
    "# Load CNN model\n",
    "import keras\n",
    "mod = keras.models.load_model(\"Models/CNN_trained_model.h5\")"
   ]
  },
  {
   "cell_type": "code",
   "execution_count": 5,
   "id": "8ab7b947-8e30-4cfb-9382-803c96fe3e9e",
   "metadata": {},
   "outputs": [],
   "source": [
    "# load LDA model\n",
    "import joblib\n",
    "model_lda = joblib.load('Models/LDA_trained_model.pkl')"
   ]
  },
  {
   "cell_type": "code",
   "execution_count": 6,
   "id": "47a109c3-feca-4b7d-93fd-95aabfb8ab8d",
   "metadata": {},
   "outputs": [
    {
     "name": "stderr",
     "output_type": "stream",
     "text": [
      "2024-12-17 13:59:12.449492: I tensorflow/stream_executor/cuda/cuda_dnn.cc:384] Loaded cuDNN version 8100\n",
      "2024-12-17 13:59:13.063761: I tensorflow/core/platform/default/subprocess.cc:304] Start cannot spawn child process: No such file or directory\n",
      "2024-12-17 13:59:13.065048: I tensorflow/core/platform/default/subprocess.cc:304] Start cannot spawn child process: No such file or directory\n",
      "2024-12-17 13:59:13.065070: W tensorflow/stream_executor/gpu/asm_compiler.cc:80] Couldn't get ptxas version string: INTERNAL: Couldn't invoke ptxas --version\n",
      "2024-12-17 13:59:13.066302: I tensorflow/core/platform/default/subprocess.cc:304] Start cannot spawn child process: No such file or directory\n",
      "2024-12-17 13:59:13.066362: W tensorflow/stream_executor/gpu/redzone_allocator.cc:314] INTERNAL: Failed to launch ptxas\n",
      "Relying on driver to perform ptx compilation. \n",
      "Modify $PATH to customize ptxas location.\n",
      "This message will be only logged once.\n"
     ]
    },
    {
     "name": "stdout",
     "output_type": "stream",
     "text": [
      "17/17 [==============================] - 2s 20ms/step\n"
     ]
    }
   ],
   "source": [
    "predictions = mod.predict([data_target, data_confirming]).round(2)\n",
    "\n",
    "peak_info['Predictions'] = predictions\n",
    "peak_info['log_area'] = 0.0\n",
    "peak_info.loc[peak_info['area']>0, 'log_area'] = np.log10(peak_info.loc[peak_info['area']>0, 'area'])"
   ]
  },
  {
   "cell_type": "code",
   "execution_count": 7,
   "id": "260f5d07-b887-4ee9-9d6c-73f8d4957f26",
   "metadata": {},
   "outputs": [],
   "source": [
    "pred_lda = model_lda.predict(peak_info[['log_area', 'points', 'devRRT', 'Predictions']])"
   ]
  },
  {
   "cell_type": "code",
   "execution_count": 8,
   "id": "22cc7e12-10f0-407b-be6d-342f2d0faf39",
   "metadata": {},
   "outputs": [
    {
     "data": {
      "text/plain": [
       "<sklearn.metrics._plot.confusion_matrix.ConfusionMatrixDisplay at 0x7f8bb458c6a0>"
      ]
     },
     "execution_count": 8,
     "metadata": {},
     "output_type": "execute_result"
    },
    {
     "data": {
      "image/png": "[encoded data removed]",
      "text/plain": [
       "<Figure size 640x480 with 1 Axes>"
      ]
     },
     "metadata": {},
     "output_type": "display_data"
    }
   ],
   "source": [
    "from sklearn.metrics import confusion_matrix, ConfusionMatrixDisplay\n",
    "conf_mat_lda = confusion_matrix(peak_info['interp'].astype('string'), pred_lda, labels=[\"1.0\",\"0.5\",\"0.0\"])\n",
    "disp_lda = ConfusionMatrixDisplay(conf_mat_lda, display_labels=[\"Detected\",\"Suspicious\",\"Not-detected\"])\n",
    "disp_lda.plot(colorbar=False)"
   ]
  },
  {
   "cell_type": "code",
   "execution_count": null,
   "id": "edd748ad-dc8e-403a-844d-8c7a5ae8aef0",
   "metadata": {},
   "outputs": [],
   "source": [
    "# Save predictions\n",
    "prediction_table = pd.concat([peak_info, pd.DataFrame({'PredictionsLDA': pred_lda})], axis=1)\n",
    "\n",
    "prediction_table.to_csv(\"prediction_batch.csv\", index=False)"
   ]
  }
 ],
 "metadata": {
  "kernelspec": {
   "display_name": "tf",
   "language": "python",
   "name": "tf"
  },
  "language_info": {
   "codemirror_mode": {
    "name": "ipython",
    "version": 3
   },
   "file_extension": ".py",
   "mimetype": "text/x-python",
   "name": "python",
   "nbconvert_exporter": "python",
   "pygments_lexer": "ipython3",
   "version": "3.9.19"
  }
 },
 "nbformat": 4,
 "nbformat_minor": 5
}
