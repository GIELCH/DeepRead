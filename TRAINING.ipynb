{
 "cells": [
  {
   "cell_type": "code",
   "execution_count": 1,
   "id": "78c365fa-95d7-4c94-bd72-81cd798bf9a9",
   "metadata": {},
   "outputs": [],
   "source": [
    "from numba import cuda\n",
    "device = cuda.get_current_device()\n",
    "device.reset()"
   ]
  },
  {
   "cell_type": "code",
   "execution_count": null,
   "id": "990f17c9-3268-4ea2-8dc4-c17351d967da",
   "metadata": {},
   "outputs": [],
   "source": [
    "from keras.utils import load_img\n",
    "from keras.utils import img_to_array\n",
    "import glob, os\n",
    "import numpy as np\n",
    "import matplotlib.pyplot as plt\n",
    "import tensorflow as tf\n",
    "import pandas as pd\n",
    "\n",
    "physical_devices = tf.config.list_physical_devices('GPU')\n",
    "# Disable first GPU\n",
    "tf.config.set_visible_devices(physical_devices[1:], 'GPU')\n"
   ]
  },
  {
   "cell_type": "markdown",
   "id": "379b3b93-c39a-42f4-a06f-4beac046fa4d",
   "metadata": {
    "tags": []
   },
   "source": [
    "# Data loading"
   ]
  },
  {
   "cell_type": "code",
   "execution_count": 4,
   "id": "abba5e17-65a7-4190-9a53-88f93bdfeeac",
   "metadata": {},
   "outputs": [],
   "source": [
    "# Function to load image\n",
    "def load_image(filename):\n",
    "\t# load the image\n",
    "\timg = load_img(filename, target_size=(200,200,1), color_mode=\"grayscale\")\n",
    "\t# convert to array\n",
    "\timg = img_to_array(img)\n",
    "\t# reshape into a single sample with 1 channel\n",
    "\timg = img.reshape(1, 200,200,1)\n",
    "    \n",
    "\t# convert pixel data to 0-1 data\n",
    "\timg = img.astype('float32')\n",
    "\timg /= 255.0\n",
    "\treturn img[0]"
   ]
  },
  {
   "cell_type": "markdown",
   "id": "10914982-fc9b-4fb9-ab8a-0bfbc7580720",
   "metadata": {
    "tags": []
   },
   "source": [
    "## Target + confirming"
   ]
  },
  {
   "cell_type": "markdown",
   "id": "5e33b18e-af0b-498e-b056-f3f80a7f9a20",
   "metadata": {},
   "source": [
    "To train the model, a CSV file containing the label (1.0 = detected/0.5 = suspicious/0.0 = not-detected) of each input (combinaison of two transitions for a target) is needed. It is required to provide in the CSV the JPEG name (sample name + \"_comp=\" + target name + \".jpeg\") to match each input to the correct label.\n",
    "\n",
    "\"train-data\" is the directory containing the training dataset, so after processing of the raw data by the Rscript. This directory is composed of all JPEG images, a PDF report for each sample and two CSV files, for transition 1 and 2, containing the analytical parameters (number of points, area, RT deviation and the JPEG filename)."
   ]
  },
  {
   "cell_type": "code",
   "execution_count": 9,
   "id": "8a7a22a0-2b9e-4c7f-9c5f-43f73aa1eff7",
   "metadata": {},
   "outputs": [
    {
     "name": "stdout",
     "output_type": "stream",
     "text": [
      "(3964, 200, 200, 1)\n"
     ]
    }
   ],
   "source": [
    "# Load plot images in a directory and convert as array\n",
    "# Generate labels according to label file\n",
    "label_tab = pd.read_csv(\"labels_train-data.csv\")\n",
    "\n",
    "peakinfo_csv = pd.read_csv(\"train-data/peakinfo.csv\")\n",
    "\n",
    "dataY = []\n",
    "data_target = []\n",
    "data_confirming = []\n",
    "\n",
    "peak_info = []\n",
    "\n",
    "for i in range(0,len(peakinfo_csv)):\n",
    "    file = peakinfo_csv['plotname'][i]\n",
    "    file_confirming = file.replace(\".jpeg\", \"_confirming.jpeg\")\n",
    "    filename = os.path.basename(file)\n",
    "    # if there is a label for this file and there is a confirming peak\n",
    "    if filename in label_tab['PLOTname'].tolist() and os.path.exists(file_confirming):\n",
    "        peak_info.append(peakinfo_csv.iloc[i].tolist())\n",
    "        \n",
    "        # Load input \n",
    "        data_target.append(load_image(file))\n",
    "        data_confirming.append(load_image(file_confirming))\n",
    "            \n",
    "        # Index where label equal to current file\n",
    "        idx = np.flatnonzero(label_tab['PLOTname'] == filename)[0]\n",
    "        # Get label\n",
    "        dataY.append([file, label_tab['vu'][idx]])\n",
    "\n",
    "data_target = np.array(data_target)\n",
    "data_confirming = np.array(data_confirming)\n",
    "dataY = pd.DataFrame(dataY)\n",
    "\n",
    "# Format peak information\n",
    "peak_info = pd.DataFrame(peak_info)\n",
    "peak_info.columns = ['plotname', 'area', 'points', 'devRRT']\n",
    "peak_info['log_area'] = [np.log10(area) if area > 0 else area for area in peak_info['area']]\n",
    "\n",
    "print(data_target.shape)"
   ]
  },
  {
   "cell_type": "markdown",
   "id": "9b385581-fb30-4d50-a7b7-cc723f596a6f",
   "metadata": {
    "tags": []
   },
   "source": [
    "# Model creation and training"
   ]
  },
  {
   "cell_type": "code",
   "execution_count": 15,
   "id": "7449d843-5278-4994-a2e7-8f5b749b871e",
   "metadata": {},
   "outputs": [],
   "source": [
    "# Split train and test datasets \n",
    "from sklearn.model_selection import train_test_split\n",
    "X_train_target, X_test_target, X_train_confirming, X_test_confirming, X_train_peak_info, X_test_peak_info, y_train, y_test = train_test_split(data_target, data_confirming, peak_info,\n",
    "                                                                                                     dataY, test_size=0.3, random_state=22)\n"
   ]
  },
  {
   "cell_type": "markdown",
   "id": "48ec9402-0ed7-40ff-b900-153a6d362120",
   "metadata": {
    "jp-MarkdownHeadingCollapsed": true,
    "tags": []
   },
   "source": [
    "## Cross validation to find the best parameters"
   ]
  },
  {
   "cell_type": "code",
   "execution_count": 6,
   "id": "5b4f8ae5-96a8-48ae-ab5b-71816f9c1beb",
   "metadata": {},
   "outputs": [],
   "source": [
    "from keras.models import Sequential, Model\n",
    "from keras.layers import Dense, Flatten, Input, concatenate\n",
    "from keras.layers import Conv2D, MaxPooling2D, Dropout\n",
    "from keras.optimizers import SGD\n",
    "# Define the neural network\n",
    "def define_model(param):\n",
    "\tinput_target = Input(shape=(200,200,1))\n",
    "\tinput_confirming = Input(shape=(200,200,1))\n",
    "    \n",
    "    # Convolution to synthetise the information of the target chromatogram \n",
    "\tx = Conv2D(32, 3, activation='relu')(input_target)\n",
    "\tx = MaxPooling2D(2)(x)\n",
    "\tx = Conv2D(64, 3, activation='relu')(x)    \n",
    "\tx = MaxPooling2D(2)(x)\n",
    "\t# Transform matrix to a flat vector\n",
    "\tx = Flatten()(x)    \n",
    "\tx = Dense(128, activation='relu')(x)\n",
    "\tx = Dense(64, activation='relu')(x)\n",
    "\tx = Dense(32, activation='relu')(x)\n",
    "\tx = Model(inputs=input_target, outputs=x)\n",
    "    \n",
    "    # Convolution to synthetise the information of the confirming chromatogram \n",
    "\ty = Conv2D(32, 3, activation='relu')(input_confirming)\n",
    "\ty = MaxPooling2D(2)(y)\n",
    "\ty = Conv2D(64, 3, activation='relu')(y)    \n",
    "\ty = MaxPooling2D(2)(y)\n",
    "\t# Transform matrix to a flat vector\n",
    "\ty = Flatten()(y)    \n",
    "\ty = Dense(128, activation='relu')(y)\n",
    "\ty = Dense(64, activation='relu')(y)\n",
    "\ty = Dropout(param['dropout'])(y)\n",
    "\ty = Dense(32, activation='relu')(y)\n",
    "\ty = Dropout(param['dropout'])(y)\n",
    "\ty = Model(inputs=input_confirming, outputs=y)\n",
    "    \n",
    "    \n",
    "    # Combine the output of the two branches\n",
    "\tcombined = concatenate([x.output, y.output])\n",
    "\n",
    "    # apply a FC layer and then a regression prediction on the\n",
    "    # combined outputs\n",
    "\tz = Dense(64)(combined)\n",
    "\tz = Dense(32)(z)\n",
    "\tz = Dense(16)(z)\n",
    "\tz = Dense(8)(z)\n",
    "\tz = Dense(4)(z)\n",
    "\tz = Dense(1)(z)\n",
    "\n",
    "    # our model will accept the inputs of the two branches and\n",
    "    # then output a single value\n",
    "\tmodel = Model(inputs=[x.input, y.input], outputs=z)\n",
    "    \n",
    "\t# compile model\n",
    "\tmodel.compile(optimizer='adam', loss='mse', metrics=['accuracy'])\n",
    "\treturn model\n",
    "\n",
    "#mod.summary()"
   ]
  },
  {
   "cell_type": "code",
   "execution_count": null,
   "id": "91725677-200f-4f4a-9238-6aa62140142f",
   "metadata": {},
   "outputs": [],
   "source": [
    "from kerashypetune import KerasGridSearchCV\n",
    "from sklearn.model_selection import KFold\n",
    "\n",
    "param_grid = {\n",
    "    #'opt' : ['rmsprop', 'adam'], \n",
    "    #'act': [\"softmax\", \"linear\", \"relu\", \"sigmoid\"],\n",
    "    'dropout': [0,0.2,0.3],\n",
    "    #'loss': ['mse', 'mae'],\n",
    "    'epochs': 10,\n",
    "    #'lr': [1e-2,1e-3], \n",
    "    #'batch_size': [10, 20, 40, 64]\n",
    "}\n",
    "\n",
    "cv = KFold(n_splits=3, random_state=33, shuffle=True)\n",
    "\n",
    "kgs = KerasGridSearchCV(define_model, param_grid, cv=cv, tuner_verbose=1,\n",
    "                        monitor='val_accuracy', greater_is_better=True)\n",
    "kgs.search([X_train_target, X_train_confirming], np.array(y_train[1]))"
   ]
  },
  {
   "cell_type": "markdown",
   "id": "7d6c1bf2-d5ff-4771-8f04-2c7488d274e9",
   "metadata": {
    "tags": []
   },
   "source": [
    "## Train model"
   ]
  },
  {
   "cell_type": "code",
   "execution_count": 14,
   "id": "d8504bbe-19c3-4965-9087-ea3d46b88fc0",
   "metadata": {},
   "outputs": [],
   "source": [
    "from keras.models import Sequential, Model\n",
    "from keras.layers import Dense, Flatten, Input, concatenate\n",
    "from keras.layers import Conv2D, MaxPooling2D, Dropout\n",
    "from keras.optimizers import SGD\n",
    "# Define the neural network\n",
    "def define_model():\n",
    "\tinput_target = Input(shape=(200,200,1))\n",
    "\tinput_confirming = Input(shape=(200,200,1))\n",
    "    \n",
    "    # Convolution to synthetise the information of the target chromatogram \n",
    "\tx = Conv2D(32, 3, activation='relu')(input_target)\n",
    "\tx = MaxPooling2D(2)(x)\n",
    "\tx = Conv2D(64, 3, activation='relu')(x)    \n",
    "\tx = MaxPooling2D(2)(x)\n",
    "\t# Transform matrix to a flat vector\n",
    "\tx = Flatten()(x)    \n",
    "\tx = Dense(128, activation='relu')(x)\n",
    "\tx = Dense(64, activation='relu')(x)\n",
    "\tx = Dense(32, activation='relu')(x)\n",
    "\tx = Model(inputs=input_target, outputs=x)\n",
    "    \n",
    "    # Convolution to synthetise the information of the confirming chromatogram \n",
    "\ty = Conv2D(32, 3, activation='relu')(input_confirming)\n",
    "\ty = MaxPooling2D(2)(y)\n",
    "\ty = Conv2D(64, 3, activation='relu')(y)    \n",
    "\ty = MaxPooling2D(2)(y)\n",
    "\t# Transform matrix to a flat vector\n",
    "\ty = Flatten()(y)    \n",
    "\ty = Dense(128, activation='relu')(y)\n",
    "\ty = Dense(64, activation='relu')(y)\n",
    "\ty = Dropout(0.2)(y)\n",
    "\ty = Dense(32, activation='relu')(y)\n",
    "\ty = Dropout(0.2)(y)\n",
    "\ty = Model(inputs=input_confirming, outputs=y)\n",
    "    \n",
    "    # Combine the output of the two branches\n",
    "\tcombined = concatenate([x.output, y.output])\n",
    "\n",
    "\tz = Dense(64)(combined)\n",
    "\tz = Dense(32)(z)\n",
    "\tz = Dense(16)(z)\n",
    "\tz = Dense(8)(z)\n",
    "\tz = Dense(4)(z)\n",
    "\tz = Dense(1)(z)\n",
    "\n",
    "    # The model will accept the inputs of the two branches and\n",
    "    # then output a single value\n",
    "\tmodel = Model(inputs=[x.input, y.input], outputs=z)\n",
    "    \n",
    "\t# Compile model\n",
    "\tmodel.compile(optimizer='adam', loss='mse', metrics=['accuracy'])\n",
    "\treturn model\n",
    "\n",
    "mod_CNN = define_model()\n",
    "#mod.summary()"
   ]
  },
  {
   "cell_type": "code",
   "execution_count": 15,
   "id": "8c98207a-8dfb-49ff-8f71-140d4cf09405",
   "metadata": {},
   "outputs": [
    {
     "name": "stdout",
     "output_type": "stream",
     "text": [
      "Epoch 1/10\n"
     ]
    },
    {
     "name": "stderr",
     "output_type": "stream",
     "text": [
      "/usr/miniconda3/envs/tf/lib/python3.9/site-packages/keras/src/models/functional.py:225: UserWarning: The structure of `inputs` doesn't match the expected structure: ['keras_tensor_25', 'keras_tensor_26']. Received: the structure of inputs=('*', '*')\n",
      "  warnings.warn(\n"
     ]
    },
    {
     "name": "stdout",
     "output_type": "stream",
     "text": [
      "\u001b[1m35/35\u001b[0m \u001b[32m━━━━━━━━━━━━━━━━━━━━\u001b[0m\u001b[37m\u001b[0m \u001b[1m18s\u001b[0m 397ms/step - accuracy: 0.4757 - loss: 239.6327 - val_accuracy: 0.6847 - val_loss: 0.1789\n",
      "Epoch 2/10\n",
      "\u001b[1m35/35\u001b[0m \u001b[32m━━━━━━━━━━━━━━━━━━━━\u001b[0m\u001b[37m\u001b[0m \u001b[1m13s\u001b[0m 382ms/step - accuracy: 0.7173 - loss: 0.1707 - val_accuracy: 0.9099 - val_loss: 0.0531\n",
      "Epoch 3/10\n",
      "\u001b[1m35/35\u001b[0m \u001b[32m━━━━━━━━━━━━━━━━━━━━\u001b[0m\u001b[37m\u001b[0m \u001b[1m13s\u001b[0m 384ms/step - accuracy: 0.9273 - loss: 0.0481 - val_accuracy: 0.9351 - val_loss: 0.0292\n",
      "Epoch 4/10\n",
      "\u001b[1m35/35\u001b[0m \u001b[32m━━━━━━━━━━━━━━━━━━━━\u001b[0m\u001b[37m\u001b[0m \u001b[1m13s\u001b[0m 378ms/step - accuracy: 0.9355 - loss: 0.0318 - val_accuracy: 0.9441 - val_loss: 0.0277\n",
      "Epoch 5/10\n",
      "\u001b[1m35/35\u001b[0m \u001b[32m━━━━━━━━━━━━━━━━━━━━\u001b[0m\u001b[37m\u001b[0m \u001b[1m13s\u001b[0m 377ms/step - accuracy: 0.9339 - loss: 0.0297 - val_accuracy: 0.9441 - val_loss: 0.0257\n",
      "Epoch 6/10\n",
      "\u001b[1m35/35\u001b[0m \u001b[32m━━━━━━━━━━━━━━━━━━━━\u001b[0m\u001b[37m\u001b[0m \u001b[1m13s\u001b[0m 376ms/step - accuracy: 0.9365 - loss: 0.0290 - val_accuracy: 0.9495 - val_loss: 0.0222\n",
      "Epoch 7/10\n",
      "\u001b[1m35/35\u001b[0m \u001b[32m━━━━━━━━━━━━━━━━━━━━\u001b[0m\u001b[37m\u001b[0m \u001b[1m13s\u001b[0m 377ms/step - accuracy: 0.9467 - loss: 0.0236 - val_accuracy: 0.9459 - val_loss: 0.0195\n",
      "Epoch 8/10\n",
      "\u001b[1m35/35\u001b[0m \u001b[32m━━━━━━━━━━━━━━━━━━━━\u001b[0m\u001b[37m\u001b[0m \u001b[1m13s\u001b[0m 378ms/step - accuracy: 0.9424 - loss: 0.0243 - val_accuracy: 0.9477 - val_loss: 0.0213\n",
      "Epoch 9/10\n",
      "\u001b[1m35/35\u001b[0m \u001b[32m━━━━━━━━━━━━━━━━━━━━\u001b[0m\u001b[37m\u001b[0m \u001b[1m13s\u001b[0m 376ms/step - accuracy: 0.9518 - loss: 0.0327 - val_accuracy: 0.9405 - val_loss: 0.0413\n",
      "Epoch 10/10\n",
      "\u001b[1m35/35\u001b[0m \u001b[32m━━━━━━━━━━━━━━━━━━━━\u001b[0m\u001b[37m\u001b[0m \u001b[1m13s\u001b[0m 377ms/step - accuracy: 0.9505 - loss: 0.0256 - val_accuracy: 0.9495 - val_loss: 0.0233\n"
     ]
    }
   ],
   "source": [
    "history = mod_CNN.fit([X_train_target, X_train_confirming], y_train[1], epochs=10, batch_size=64, validation_split=.2)"
   ]
  },
  {
   "cell_type": "code",
   "execution_count": 16,
   "id": "0ae7cec4-8db8-4ed6-bbbf-7327f1d7efba",
   "metadata": {},
   "outputs": [
    {
     "data": {
      "image/png": "[encoded data removed]",
      "text/plain": [
       "<Figure size 640x480 with 1 Axes>"
      ]
     },
     "metadata": {},
     "output_type": "display_data"
    }
   ],
   "source": [
    "# Plot loss during training\n",
    "plt.subplot(211)\n",
    "plt.title('Loss & Accuracy')\n",
    "plt.plot(history.history['loss'][1:], label='train')\n",
    "plt.plot(history.history['val_loss'][1:], label='test')\n",
    "plt.legend()\n",
    "# Plot accuracy during training\n",
    "plt.plot(history.history['accuracy'][1:], label='train')\n",
    "plt.plot(history.history['val_accuracy'][1:], label='test')\n",
    "plt.legend()\n",
    "plt.show()"
   ]
  },
  {
   "cell_type": "code",
   "execution_count": 16,
   "id": "5fc3e8cb-094c-447b-9690-162d3732b62b",
   "metadata": {},
   "outputs": [
    {
     "name": "stdout",
     "output_type": "stream",
     "text": [
      "38/38 - 1s - loss: 0.0247 - accuracy: 0.9529 - 708ms/epoch - 19ms/step\n"
     ]
    }
   ],
   "source": [
    "test_loss, test_acc = mod_CNN.evaluate([X_test_target, X_test_confirming],  y_test[1], verbose=2)"
   ]
  },
  {
   "cell_type": "markdown",
   "id": "7c39fdbd-b486-4d6d-99d6-8d2ab4b51d8f",
   "metadata": {
    "tags": []
   },
   "source": [
    "## Save/Load model"
   ]
  },
  {
   "cell_type": "code",
   "execution_count": 51,
   "id": "634585c0-9359-4ba0-ac6f-75a5dea75a13",
   "metadata": {},
   "outputs": [],
   "source": [
    "# Save model\n",
    "#mod_CNN.save(\"Models/CNN_trained_model.h5\")"
   ]
  },
  {
   "cell_type": "code",
   "execution_count": 13,
   "id": "bf3b76d2-e1d4-4d38-a4c4-1517b6049025",
   "metadata": {},
   "outputs": [
    {
     "name": "stderr",
     "output_type": "stream",
     "text": [
      "2024-10-31 07:46:40.410765: I tensorflow/core/platform/cpu_feature_guard.cc:193] This TensorFlow binary is optimized with oneAPI Deep Neural Network Library (oneDNN) to use the following CPU instructions in performance-critical operations:  AVX2 AVX512F AVX512_VNNI FMA\n",
      "To enable them in other operations, rebuild TensorFlow with the appropriate compiler flags.\n",
      "2024-10-31 07:46:41.367099: I tensorflow/core/common_runtime/gpu/gpu_device.cc:1616] Created device /job:localhost/replica:0/task:0/device:GPU:0 with 6650 MB memory:  -> device: 1, name: Quadro RTX 4000, pci bus id: 0000:af:00.0, compute capability: 7.5\n"
     ]
    }
   ],
   "source": [
    "import keras\n",
    "mod_CNN = keras.models.load_model(\"Models/CNN_trained_model.h5\")"
   ]
  },
  {
   "cell_type": "markdown",
   "id": "67bdc3f5-fe2c-4a1f-9151-c9618526d2ac",
   "metadata": {
    "tags": []
   },
   "source": [
    "## LDA"
   ]
  },
  {
   "cell_type": "code",
   "execution_count": 17,
   "id": "59f2407e-3c73-447c-beea-897283c0c398",
   "metadata": {},
   "outputs": [],
   "source": [
    "from sklearn.discriminant_analysis import LinearDiscriminantAnalysis\n",
    "from sklearn.model_selection import RepeatedStratifiedKFold\n",
    "from sklearn.model_selection import cross_val_score"
   ]
  },
  {
   "cell_type": "code",
   "execution_count": 18,
   "id": "b8a25394-87ac-4ab8-9cb9-af6ad41001c5",
   "metadata": {},
   "outputs": [
    {
     "name": "stdout",
     "output_type": "stream",
     "text": [
      "38/38 [==============================] - 1s 13ms/step\n"
     ]
    }
   ],
   "source": [
    "predictions = mod_CNN.predict([X_test_target, X_test_confirming]).round(2)"
   ]
  },
  {
   "cell_type": "code",
   "execution_count": 20,
   "id": "25920cf4-5a66-44c7-9780-0531117aaea1",
   "metadata": {},
   "outputs": [],
   "source": [
    "input_lda = X_test_peak_info\n",
    "input_lda['Predictions'] = predictions"
   ]
  },
  {
   "cell_type": "code",
   "execution_count": 21,
   "id": "7384a95d-66f4-4327-884c-02bc2e69e3c8",
   "metadata": {
    "tags": []
   },
   "outputs": [],
   "source": [
    "X_train_lda, X_test_lda, y_train_lda, y_test_lda = train_test_split(input_lda, y_test, test_size=0.2, random_state=19)"
   ]
  },
  {
   "cell_type": "code",
   "execution_count": 22,
   "id": "4260b8e1-bd51-434b-9064-42dd2d70b0c5",
   "metadata": {},
   "outputs": [
    {
     "name": "stdout",
     "output_type": "stream",
     "text": [
      "(952, 6)\n",
      "(952, 2)\n"
     ]
    }
   ],
   "source": [
    "print(X_train_lda.shape)\n",
    "print(y_train_lda.shape)"
   ]
  },
  {
   "cell_type": "code",
   "execution_count": 23,
   "id": "3c14054c-92f7-4d07-baad-895b9b4d79c1",
   "metadata": {},
   "outputs": [],
   "source": [
    "y_train_lda_cat = y_train_lda[1].astype('string')\n",
    "y_test_lda_cat = y_test_lda[1].astype('string')"
   ]
  },
  {
   "cell_type": "code",
   "execution_count": 24,
   "id": "27eb381b-c94a-47a8-a78d-a386be00221f",
   "metadata": {},
   "outputs": [
    {
     "name": "stdout",
     "output_type": "stream",
     "text": [
      "Mean Accuracy: 0.942 (0.011)\n"
     ]
    }
   ],
   "source": [
    "from numpy import mean\n",
    "from numpy import std\n",
    "\n",
    "# Define model\n",
    "model = LinearDiscriminantAnalysis()\n",
    "# Define model evaluation method\n",
    "cv = RepeatedStratifiedKFold(n_splits=5, n_repeats=10, random_state=1)\n",
    "# Evaluate model\n",
    "scores = cross_val_score(model, input_lda[['log_area', 'points', 'devRRT', 'Predictions']], y_test[1].astype('string'), scoring='accuracy', cv=cv, n_jobs=-1)\n",
    "# Summarize result\n",
    "print('Mean Accuracy: %.3f (%.3f)' % (mean(scores), std(scores)))"
   ]
  },
  {
   "cell_type": "code",
   "execution_count": 25,
   "id": "3a52b6f6-6757-4b89-9018-9679516cb223",
   "metadata": {},
   "outputs": [
    {
     "data": {
      "text/html": [
       "<style>#sk-container-id-1 {\n",
       "  /* Definition of color scheme common for light and dark mode */\n",
       "  --sklearn-color-text: black;\n",
       "  --sklearn-color-line: gray;\n",
       "  /* Definition of color scheme for unfitted estimators */\n",
       "  --sklearn-color-unfitted-level-0: #fff5e6;\n",
       "  --sklearn-color-unfitted-level-1: #f6e4d2;\n",
       "  --sklearn-color-unfitted-level-2: #ffe0b3;\n",
       "  --sklearn-color-unfitted-level-3: chocolate;\n",
       "  /* Definition of color scheme for fitted estimators */\n",
       "  --sklearn-color-fitted-level-0: #f0f8ff;\n",
       "  --sklearn-color-fitted-level-1: #d4ebff;\n",
       "  --sklearn-color-fitted-level-2: #b3dbfd;\n",
       "  --sklearn-color-fitted-level-3: cornflowerblue;\n",
       "\n",
       "  /* Specific color for light theme */\n",
       "  --sklearn-color-text-on-default-background: var(--sg-text-color, var(--theme-code-foreground, var(--jp-content-font-color1, black)));\n",
       "  --sklearn-color-background: var(--sg-background-color, var(--theme-background, var(--jp-layout-color0, white)));\n",
       "  --sklearn-color-border-box: var(--sg-text-color, var(--theme-code-foreground, var(--jp-content-font-color1, black)));\n",
       "  --sklearn-color-icon: #696969;\n",
       "\n",
       "  @media (prefers-color-scheme: dark) {\n",
       "    /* Redefinition of color scheme for dark theme */\n",
       "    --sklearn-color-text-on-default-background: var(--sg-text-color, var(--theme-code-foreground, var(--jp-content-font-color1, white)));\n",
       "    --sklearn-color-background: var(--sg-background-color, var(--theme-background, var(--jp-layout-color0, #111)));\n",
       "    --sklearn-color-border-box: var(--sg-text-color, var(--theme-code-foreground, var(--jp-content-font-color1, white)));\n",
       "    --sklearn-color-icon: #878787;\n",
       "  }\n",
       "}\n",
       "\n",
       "#sk-container-id-1 {\n",
       "  color: var(--sklearn-color-text);\n",
       "}\n",
       "\n",
       "#sk-container-id-1 pre {\n",
       "  padding: 0;\n",
       "}\n",
       "\n",
       "#sk-container-id-1 input.sk-hidden--visually {\n",
       "  border: 0;\n",
       "  clip: rect(1px 1px 1px 1px);\n",
       "  clip: rect(1px, 1px, 1px, 1px);\n",
       "  height: 1px;\n",
       "  margin: -1px;\n",
       "  overflow: hidden;\n",
       "  padding: 0;\n",
       "  position: absolute;\n",
       "  width: 1px;\n",
       "}\n",
       "\n",
       "#sk-container-id-1 div.sk-dashed-wrapped {\n",
       "  border: 1px dashed var(--sklearn-color-line);\n",
       "  margin: 0 0.4em 0.5em 0.4em;\n",
       "  box-sizing: border-box;\n",
       "  padding-bottom: 0.4em;\n",
       "  background-color: var(--sklearn-color-background);\n",
       "}\n",
       "\n",
       "#sk-container-id-1 div.sk-container {\n",
       "  /* jupyter's `normalize.less` sets `[hidden] { display: none; }`\n",
       "     but bootstrap.min.css set `[hidden] { display: none !important; }`\n",
       "     so we also need the `!important` here to be able to override the\n",
       "     default hidden behavior on the sphinx rendered scikit-learn.org.\n",
       "     See: https://github.com/scikit-learn/scikit-learn/issues/21755 */\n",
       "  display: inline-block !important;\n",
       "  position: relative;\n",
       "}\n",
       "\n",
       "#sk-container-id-1 div.sk-text-repr-fallback {\n",
       "  display: none;\n",
       "}\n",
       "\n",
       "div.sk-parallel-item,\n",
       "div.sk-serial,\n",
       "div.sk-item {\n",
       "  /* draw centered vertical line to link estimators */\n",
       "  background-image: linear-gradient(var(--sklearn-color-text-on-default-background), var(--sklearn-color-text-on-default-background));\n",
       "  background-size: 2px 100%;\n",
       "  background-repeat: no-repeat;\n",
       "  background-position: center center;\n",
       "}\n",
       "\n",
       "/* Parallel-specific style estimator block */\n",
       "\n",
       "#sk-container-id-1 div.sk-parallel-item::after {\n",
       "  content: \"\";\n",
       "  width: 100%;\n",
       "  border-bottom: 2px solid var(--sklearn-color-text-on-default-background);\n",
       "  flex-grow: 1;\n",
       "}\n",
       "\n",
       "#sk-container-id-1 div.sk-parallel {\n",
       "  display: flex;\n",
       "  align-items: stretch;\n",
       "  justify-content: center;\n",
       "  background-color: var(--sklearn-color-background);\n",
       "  position: relative;\n",
       "}\n",
       "\n",
       "#sk-container-id-1 div.sk-parallel-item {\n",
       "  display: flex;\n",
       "  flex-direction: column;\n",
       "}\n",
       "\n",
       "#sk-container-id-1 div.sk-parallel-item:first-child::after {\n",
       "  align-self: flex-end;\n",
       "  width: 50%;\n",
       "}\n",
       "\n",
       "#sk-container-id-1 div.sk-parallel-item:last-child::after {\n",
       "  align-self: flex-start;\n",
       "  width: 50%;\n",
       "}\n",
       "\n",
       "#sk-container-id-1 div.sk-parallel-item:only-child::after {\n",
       "  width: 0;\n",
       "}\n",
       "\n",
       "/* Serial-specific style estimator block */\n",
       "\n",
       "#sk-container-id-1 div.sk-serial {\n",
       "  display: flex;\n",
       "  flex-direction: column;\n",
       "  align-items: center;\n",
       "  background-color: var(--sklearn-color-background);\n",
       "  padding-right: 1em;\n",
       "  padding-left: 1em;\n",
       "}\n",
       "\n",
       "\n",
       "/* Toggleable style: style used for estimator/Pipeline/ColumnTransformer box that is\n",
       "clickable and can be expanded/collapsed.\n",
       "- Pipeline and ColumnTransformer use this feature and define the default style\n",
       "- Estimators will overwrite some part of the style using the `sk-estimator` class\n",
       "*/\n",
       "\n",
       "/* Pipeline and ColumnTransformer style (default) */\n",
       "\n",
       "#sk-container-id-1 div.sk-toggleable {\n",
       "  /* Default theme specific background. It is overwritten whether we have a\n",
       "  specific estimator or a Pipeline/ColumnTransformer */\n",
       "  background-color: var(--sklearn-color-background);\n",
       "}\n",
       "\n",
       "/* Toggleable label */\n",
       "#sk-container-id-1 label.sk-toggleable__label {\n",
       "  cursor: pointer;\n",
       "  display: block;\n",
       "  width: 100%;\n",
       "  margin-bottom: 0;\n",
       "  padding: 0.5em;\n",
       "  box-sizing: border-box;\n",
       "  text-align: center;\n",
       "}\n",
       "\n",
       "#sk-container-id-1 label.sk-toggleable__label-arrow:before {\n",
       "  /* Arrow on the left of the label */\n",
       "  content: \"▸\";\n",
       "  float: left;\n",
       "  margin-right: 0.25em;\n",
       "  color: var(--sklearn-color-icon);\n",
       "}\n",
       "\n",
       "#sk-container-id-1 label.sk-toggleable__label-arrow:hover:before {\n",
       "  color: var(--sklearn-color-text);\n",
       "}\n",
       "\n",
       "/* Toggleable content - dropdown */\n",
       "\n",
       "#sk-container-id-1 div.sk-toggleable__content {\n",
       "  max-height: 0;\n",
       "  max-width: 0;\n",
       "  overflow: hidden;\n",
       "  text-align: left;\n",
       "  /* unfitted */\n",
       "  background-color: var(--sklearn-color-unfitted-level-0);\n",
       "}\n",
       "\n",
       "#sk-container-id-1 div.sk-toggleable__content.fitted {\n",
       "  /* fitted */\n",
       "  background-color: var(--sklearn-color-fitted-level-0);\n",
       "}\n",
       "\n",
       "#sk-container-id-1 div.sk-toggleable__content pre {\n",
       "  margin: 0.2em;\n",
       "  border-radius: 0.25em;\n",
       "  color: var(--sklearn-color-text);\n",
       "  /* unfitted */\n",
       "  background-color: var(--sklearn-color-unfitted-level-0);\n",
       "}\n",
       "\n",
       "#sk-container-id-1 div.sk-toggleable__content.fitted pre {\n",
       "  /* unfitted */\n",
       "  background-color: var(--sklearn-color-fitted-level-0);\n",
       "}\n",
       "\n",
       "#sk-container-id-1 input.sk-toggleable__control:checked~div.sk-toggleable__content {\n",
       "  /* Expand drop-down */\n",
       "  max-height: 200px;\n",
       "  max-width: 100%;\n",
       "  overflow: auto;\n",
       "}\n",
       "\n",
       "#sk-container-id-1 input.sk-toggleable__control:checked~label.sk-toggleable__label-arrow:before {\n",
       "  content: \"▾\";\n",
       "}\n",
       "\n",
       "/* Pipeline/ColumnTransformer-specific style */\n",
       "\n",
       "#sk-container-id-1 div.sk-label input.sk-toggleable__control:checked~label.sk-toggleable__label {\n",
       "  color: var(--sklearn-color-text);\n",
       "  background-color: var(--sklearn-color-unfitted-level-2);\n",
       "}\n",
       "\n",
       "#sk-container-id-1 div.sk-label.fitted input.sk-toggleable__control:checked~label.sk-toggleable__label {\n",
       "  background-color: var(--sklearn-color-fitted-level-2);\n",
       "}\n",
       "\n",
       "/* Estimator-specific style */\n",
       "\n",
       "/* Colorize estimator box */\n",
       "#sk-container-id-1 div.sk-estimator input.sk-toggleable__control:checked~label.sk-toggleable__label {\n",
       "  /* unfitted */\n",
       "  background-color: var(--sklearn-color-unfitted-level-2);\n",
       "}\n",
       "\n",
       "#sk-container-id-1 div.sk-estimator.fitted input.sk-toggleable__control:checked~label.sk-toggleable__label {\n",
       "  /* fitted */\n",
       "  background-color: var(--sklearn-color-fitted-level-2);\n",
       "}\n",
       "\n",
       "#sk-container-id-1 div.sk-label label.sk-toggleable__label,\n",
       "#sk-container-id-1 div.sk-label label {\n",
       "  /* The background is the default theme color */\n",
       "  color: var(--sklearn-color-text-on-default-background);\n",
       "}\n",
       "\n",
       "/* On hover, darken the color of the background */\n",
       "#sk-container-id-1 div.sk-label:hover label.sk-toggleable__label {\n",
       "  color: var(--sklearn-color-text);\n",
       "  background-color: var(--sklearn-color-unfitted-level-2);\n",
       "}\n",
       "\n",
       "/* Label box, darken color on hover, fitted */\n",
       "#sk-container-id-1 div.sk-label.fitted:hover label.sk-toggleable__label.fitted {\n",
       "  color: var(--sklearn-color-text);\n",
       "  background-color: var(--sklearn-color-fitted-level-2);\n",
       "}\n",
       "\n",
       "/* Estimator label */\n",
       "\n",
       "#sk-container-id-1 div.sk-label label {\n",
       "  font-family: monospace;\n",
       "  font-weight: bold;\n",
       "  display: inline-block;\n",
       "  line-height: 1.2em;\n",
       "}\n",
       "\n",
       "#sk-container-id-1 div.sk-label-container {\n",
       "  text-align: center;\n",
       "}\n",
       "\n",
       "/* Estimator-specific */\n",
       "#sk-container-id-1 div.sk-estimator {\n",
       "  font-family: monospace;\n",
       "  border: 1px dotted var(--sklearn-color-border-box);\n",
       "  border-radius: 0.25em;\n",
       "  box-sizing: border-box;\n",
       "  margin-bottom: 0.5em;\n",
       "  /* unfitted */\n",
       "  background-color: var(--sklearn-color-unfitted-level-0);\n",
       "}\n",
       "\n",
       "#sk-container-id-1 div.sk-estimator.fitted {\n",
       "  /* fitted */\n",
       "  background-color: var(--sklearn-color-fitted-level-0);\n",
       "}\n",
       "\n",
       "/* on hover */\n",
       "#sk-container-id-1 div.sk-estimator:hover {\n",
       "  /* unfitted */\n",
       "  background-color: var(--sklearn-color-unfitted-level-2);\n",
       "}\n",
       "\n",
       "#sk-container-id-1 div.sk-estimator.fitted:hover {\n",
       "  /* fitted */\n",
       "  background-color: var(--sklearn-color-fitted-level-2);\n",
       "}\n",
       "\n",
       "/* Specification for estimator info (e.g. \"i\" and \"?\") */\n",
       "\n",
       "/* Common style for \"i\" and \"?\" */\n",
       "\n",
       ".sk-estimator-doc-link,\n",
       "a:link.sk-estimator-doc-link,\n",
       "a:visited.sk-estimator-doc-link {\n",
       "  float: right;\n",
       "  font-size: smaller;\n",
       "  line-height: 1em;\n",
       "  font-family: monospace;\n",
       "  background-color: var(--sklearn-color-background);\n",
       "  border-radius: 1em;\n",
       "  height: 1em;\n",
       "  width: 1em;\n",
       "  text-decoration: none !important;\n",
       "  margin-left: 1ex;\n",
       "  /* unfitted */\n",
       "  border: var(--sklearn-color-unfitted-level-1) 1pt solid;\n",
       "  color: var(--sklearn-color-unfitted-level-1);\n",
       "}\n",
       "\n",
       ".sk-estimator-doc-link.fitted,\n",
       "a:link.sk-estimator-doc-link.fitted,\n",
       "a:visited.sk-estimator-doc-link.fitted {\n",
       "  /* fitted */\n",
       "  border: var(--sklearn-color-fitted-level-1) 1pt solid;\n",
       "  color: var(--sklearn-color-fitted-level-1);\n",
       "}\n",
       "\n",
       "/* On hover */\n",
       "div.sk-estimator:hover .sk-estimator-doc-link:hover,\n",
       ".sk-estimator-doc-link:hover,\n",
       "div.sk-label-container:hover .sk-estimator-doc-link:hover,\n",
       ".sk-estimator-doc-link:hover {\n",
       "  /* unfitted */\n",
       "  background-color: var(--sklearn-color-unfitted-level-3);\n",
       "  color: var(--sklearn-color-background);\n",
       "  text-decoration: none;\n",
       "}\n",
       "\n",
       "div.sk-estimator.fitted:hover .sk-estimator-doc-link.fitted:hover,\n",
       ".sk-estimator-doc-link.fitted:hover,\n",
       "div.sk-label-container:hover .sk-estimator-doc-link.fitted:hover,\n",
       ".sk-estimator-doc-link.fitted:hover {\n",
       "  /* fitted */\n",
       "  background-color: var(--sklearn-color-fitted-level-3);\n",
       "  color: var(--sklearn-color-background);\n",
       "  text-decoration: none;\n",
       "}\n",
       "\n",
       "/* Span, style for the box shown on hovering the info icon */\n",
       ".sk-estimator-doc-link span {\n",
       "  display: none;\n",
       "  z-index: 9999;\n",
       "  position: relative;\n",
       "  font-weight: normal;\n",
       "  right: .2ex;\n",
       "  padding: .5ex;\n",
       "  margin: .5ex;\n",
       "  width: min-content;\n",
       "  min-width: 20ex;\n",
       "  max-width: 50ex;\n",
       "  color: var(--sklearn-color-text);\n",
       "  box-shadow: 2pt 2pt 4pt #999;\n",
       "  /* unfitted */\n",
       "  background: var(--sklearn-color-unfitted-level-0);\n",
       "  border: .5pt solid var(--sklearn-color-unfitted-level-3);\n",
       "}\n",
       "\n",
       ".sk-estimator-doc-link.fitted span {\n",
       "  /* fitted */\n",
       "  background: var(--sklearn-color-fitted-level-0);\n",
       "  border: var(--sklearn-color-fitted-level-3);\n",
       "}\n",
       "\n",
       ".sk-estimator-doc-link:hover span {\n",
       "  display: block;\n",
       "}\n",
       "\n",
       "/* \"?\"-specific style due to the `<a>` HTML tag */\n",
       "\n",
       "#sk-container-id-1 a.estimator_doc_link {\n",
       "  float: right;\n",
       "  font-size: 1rem;\n",
       "  line-height: 1em;\n",
       "  font-family: monospace;\n",
       "  background-color: var(--sklearn-color-background);\n",
       "  border-radius: 1rem;\n",
       "  height: 1rem;\n",
       "  width: 1rem;\n",
       "  text-decoration: none;\n",
       "  /* unfitted */\n",
       "  color: var(--sklearn-color-unfitted-level-1);\n",
       "  border: var(--sklearn-color-unfitted-level-1) 1pt solid;\n",
       "}\n",
       "\n",
       "#sk-container-id-1 a.estimator_doc_link.fitted {\n",
       "  /* fitted */\n",
       "  border: var(--sklearn-color-fitted-level-1) 1pt solid;\n",
       "  color: var(--sklearn-color-fitted-level-1);\n",
       "}\n",
       "\n",
       "/* On hover */\n",
       "#sk-container-id-1 a.estimator_doc_link:hover {\n",
       "  /* unfitted */\n",
       "  background-color: var(--sklearn-color-unfitted-level-3);\n",
       "  color: var(--sklearn-color-background);\n",
       "  text-decoration: none;\n",
       "}\n",
       "\n",
       "#sk-container-id-1 a.estimator_doc_link.fitted:hover {\n",
       "  /* fitted */\n",
       "  background-color: var(--sklearn-color-fitted-level-3);\n",
       "}\n",
       "</style><div id=\"sk-container-id-1\" class=\"sk-top-container\"><div class=\"sk-text-repr-fallback\"><pre>LinearDiscriminantAnalysis()</pre><b>In a Jupyter environment, please rerun this cell to show the HTML representation or trust the notebook. <br />On GitHub, the HTML representation is unable to render, please try loading this page with nbviewer.org.</b></div><div class=\"sk-container\" hidden><div class=\"sk-item\"><div class=\"sk-estimator fitted sk-toggleable\"><input class=\"sk-toggleable__control sk-hidden--visually\" id=\"sk-estimator-id-1\" type=\"checkbox\" checked><label for=\"sk-estimator-id-1\" class=\"sk-toggleable__label fitted sk-toggleable__label-arrow fitted\">&nbsp;&nbsp;LinearDiscriminantAnalysis<a class=\"sk-estimator-doc-link fitted\" rel=\"noreferrer\" target=\"_blank\" href=\"https://scikit-learn.org/1.5/modules/generated/sklearn.discriminant_analysis.LinearDiscriminantAnalysis.html\">?<span>Documentation for LinearDiscriminantAnalysis</span></a><span class=\"sk-estimator-doc-link fitted\">i<span>Fitted</span></span></label><div class=\"sk-toggleable__content fitted\"><pre>LinearDiscriminantAnalysis()</pre></div> </div></div></div></div>"
      ],
      "text/plain": [
       "LinearDiscriminantAnalysis()"
      ]
     },
     "execution_count": 25,
     "metadata": {},
     "output_type": "execute_result"
    }
   ],
   "source": [
    "model_lda = LinearDiscriminantAnalysis()\n",
    "model_lda.fit(X_train_lda[['log_area', 'points', 'devRRT', 'Predictions']], y_train_lda_cat)"
   ]
  },
  {
   "cell_type": "code",
   "execution_count": 26,
   "id": "f9f10bba-2e26-418d-94db-aced0be1f14e",
   "metadata": {},
   "outputs": [
    {
     "data": {
      "text/plain": [
       "array([[ -5.68319921,   0.31852543, -19.85246275, -29.15849   ],\n",
       "       [ -5.54276363,   0.3071368 , -21.24849128, -15.96830743],\n",
       "       [  2.96693362,  -0.16612407,  10.45158423,  14.6436975 ]])"
      ]
     },
     "execution_count": 26,
     "metadata": {},
     "output_type": "execute_result"
    }
   ],
   "source": [
    "model_lda.coef_"
   ]
  },
  {
   "cell_type": "code",
   "execution_count": 27,
   "id": "7114d1a4-2603-447b-a2aa-1fdbd181c821",
   "metadata": {},
   "outputs": [],
   "source": [
    "pred_lda = model_lda.predict(X_test_lda[['log_area', 'points', 'devRRT', 'Predictions']])"
   ]
  },
  {
   "cell_type": "code",
   "execution_count": 29,
   "id": "3ed2b63d-c7a6-4b41-b9ba-cab641b44a53",
   "metadata": {
    "tags": []
   },
   "outputs": [
    {
     "data": {
      "text/plain": [
       "<sklearn.metrics._plot.confusion_matrix.ConfusionMatrixDisplay at 0x7fd927e9dac0>"
      ]
     },
     "execution_count": 29,
     "metadata": {},
     "output_type": "execute_result"
    },
    {
     "data": {
      "image/png": "[encoded data removed]",
      "text/plain": [
       "<Figure size 640x480 with 2 Axes>"
      ]
     },
     "metadata": {},
     "output_type": "display_data"
    }
   ],
   "source": [
    "from sklearn.metrics import confusion_matrix, ConfusionMatrixDisplay\n",
    "conf_mat_lda = confusion_matrix(y_test_lda_cat, pred_lda, labels=[\"1.0\",\"0.5\",\"0.0\"])\n",
    "disp_lda = ConfusionMatrixDisplay(conf_mat_lda, display_labels=[\"Detected\",\"Suspicious\",\"Not-detected\"])\n",
    "disp_lda.plot()"
   ]
  },
  {
   "cell_type": "code",
   "execution_count": 30,
   "id": "7ba410e4-52bc-4ef8-8d4e-cc57e28b3cfb",
   "metadata": {},
   "outputs": [],
   "source": [
    "pred_lda_proba = model_lda.predict_proba(X_test_lda[['log_area', 'points', 'devRRT', 'Predictions']])"
   ]
  },
  {
   "cell_type": "code",
   "execution_count": 31,
   "id": "56f3514b-62ad-48ac-a2cd-a91a49a7ca92",
   "metadata": {},
   "outputs": [
    {
     "data": {
      "text/plain": [
       "(238, 3)"
      ]
     },
     "execution_count": 31,
     "metadata": {},
     "output_type": "execute_result"
    }
   ],
   "source": [
    "from sklearn.preprocessing import LabelBinarizer\n",
    "\n",
    "label_binarizer = LabelBinarizer().fit(np.array(y_train_lda_cat))\n",
    "y_onehot_test = label_binarizer.transform(y_test_lda_cat)\n",
    "y_onehot_test.shape  # (n_samples, n_classes)"
   ]
  },
  {
   "cell_type": "code",
   "execution_count": 32,
   "id": "cda2fc63-21a1-4130-8bdf-9e9fbeb07d0d",
   "metadata": {},
   "outputs": [],
   "source": [
    "target_names = [\"Not-detected\", \"Suspicious\", \"Detected\"]\n",
    "line = ['solid', 'dotted', 'dashed']\n",
    "color = [\"#002A7E\", \"#FF6600\", \"#3377FF\"]"
   ]
  },
  {
   "cell_type": "code",
   "execution_count": 34,
   "id": "b7599f26-196c-46d5-a00f-06987200aea7",
   "metadata": {},
   "outputs": [
    {
     "data": {
      "image/png": "[encoded data removed]",
      "text/plain": [
       "<Figure size 600x600 with 1 Axes>"
      ]
     },
     "metadata": {},
     "output_type": "display_data"
    }
   ],
   "source": [
    "from sklearn.metrics import RocCurveDisplay\n",
    "\n",
    "fig, ax = plt.subplots(figsize=(6, 6))\n",
    "for class_id in [0,1,2]:\n",
    "    RocCurveDisplay.from_predictions(\n",
    "        y_onehot_test[:, class_id],\n",
    "        pred_lda_proba[:, class_id],\n",
    "        name=f\"{target_names[class_id]} data\",\n",
    "        linestyle = line[class_id],\n",
    "        ax=ax, color=color[class_id],\n",
    "        plot_chance_level=(class_id == 2),\n",
    "        linewidth = 2.5,\n",
    "    )\n",
    "\n",
    "# Show only X and Y axis\n",
    "ax.spines['top'].set_visible(False)\n",
    "ax.spines['right'].set_visible(False)\n",
    "\n",
    "plt.xlabel(\"Bad Prediction Rate\", fontsize=14)\n",
    "plt.ylabel(\"Good Prediction Rate\", fontsize=14)\n",
    "ax.tick_params(axis='both', which='major', labelsize=14)\n",
    "plt.title(\"One-vs-Rest ROC curves for LDA\", fontweight=\"bold\", loc=\"left\", fontsize=14)\n",
    "legend = plt.legend(fontsize=12)\n"
   ]
  },
  {
   "cell_type": "code",
   "execution_count": null,
   "id": "7d57725b-4b5e-46a2-9a29-a9e43831b355",
   "metadata": {},
   "outputs": [],
   "source": [
    "## save model LDA\n",
    "#import joblib\n",
    "#joblib.dump(model_lda, 'Models/LDA_trained_model.pkl')"
   ]
  }
 ],
 "metadata": {
  "kernelspec": {
   "display_name": "tf",
   "language": "python",
   "name": "tf"
  },
  "language_info": {
   "codemirror_mode": {
    "name": "ipython",
    "version": 3
   },
   "file_extension": ".py",
   "mimetype": "text/x-python",
   "name": "python",
   "nbconvert_exporter": "python",
   "pygments_lexer": "ipython3",
   "version": "3.9.19"
  }
 },
 "nbformat": 4,
 "nbformat_minor": 5
}
